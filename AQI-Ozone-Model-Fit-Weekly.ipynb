{
 "cells": [
  {
   "cell_type": "markdown",
   "metadata": {},
   "source": [
    "# Ozone AQI\n",
    " Model Fit - Weekly\n",
    "Fitting Appropiate Model To data"
   ]
  },
  {
   "cell_type": "markdown",
   "metadata": {},
   "source": [
    "__Setup Enviroment__"
   ]
  },
  {
   "cell_type": "code",
   "execution_count": 1,
   "metadata": {},
   "outputs": [
    {
     "name": "stdout",
     "output_type": "stream",
     "text": [
      "Initial Directory:  /Users/nickbenelli/Workspace/GitHub/Time-Series-Methods\n"
     ]
    }
   ],
   "source": [
    "# Install Packages\n",
    "import pandas as pd\n",
    "import os, sys\n",
    "import matplotlib.pyplot as plt\n",
    "\n",
    "# Command Line\n",
    "cwd_0 = os.getcwd()\n",
    "print('Initial Directory: ', cwd_0)\n",
    "\n",
    "# Settings\n",
    "plt.style.use('fivethirtyeight')"
   ]
  },
  {
   "cell_type": "code",
   "execution_count": 2,
   "metadata": {},
   "outputs": [],
   "source": [
    "from plot import colors"
   ]
  },
  {
   "cell_type": "code",
   "execution_count": 3,
   "metadata": {},
   "outputs": [],
   "source": [
    "# Global Variables\n",
    "plot_colors = colors.colors\n",
    "\n",
    "param_name = 'Ozone'\n",
    "\n",
    "init_color = \"#008fd5\"\n",
    "\n",
    "from pylab import rcParams\n",
    "int_figsize = rcParams['figure.figsize']\n",
    "\n",
    "\n",
    "season = 52\n",
    "test_year_start = 2022\n",
    "n_splits = 3\n",
    "use_normalized = False"
   ]
  },
  {
   "cell_type": "markdown",
   "metadata": {},
   "source": [
    "## Explore Data\n",
    "### Load Data"
   ]
  },
  {
   "cell_type": "code",
   "execution_count": 4,
   "metadata": {},
   "outputs": [
    {
     "name": "stderr",
     "output_type": "stream",
     "text": [
      "/var/folders/tj/_56ljrb50_9gl48mcjz2fh4c0000gn/T/ipykernel_93268/2338816510.py:2: DtypeWarning: Columns (4,6,8,10,12,14,16,18,20,22) have mixed types. Specify dtype option on import or set low_memory=False.\n",
      "  df_import = pd.read_csv(\"./daily_pollutants_by_county.csv\")\n",
      "/var/folders/tj/_56ljrb50_9gl48mcjz2fh4c0000gn/T/ipykernel_93268/2338816510.py:9: FutureWarning: The default value of numeric_only in DataFrameGroupBy.mean is deprecated. In a future version, numeric_only will default to False. Either specify numeric_only or select only columns which should be valid for the function.\n",
      "  df = df.resample('W').mean()\n"
     ]
    },
    {
     "data": {
      "text/plain": [
       "datetime\n",
       "2012-01-01    27.928571\n",
       "2012-01-08    21.683673\n",
       "2012-01-15    19.061565\n",
       "2012-01-22    25.614286\n",
       "2012-01-29    24.104762\n",
       "                ...    \n",
       "2023-10-15    52.738095\n",
       "2023-10-22    64.507937\n",
       "2023-10-29    43.780423\n",
       "2023-11-05    58.965608\n",
       "2023-11-12    44.555556\n",
       "Freq: W-SUN, Name: aqi_O3, Length: 620, dtype: float64"
      ]
     },
     "execution_count": 4,
     "metadata": {},
     "output_type": "execute_result"
    }
   ],
   "source": [
    "# Load Data\n",
    "df_import = pd.read_csv(\"./daily_pollutants_by_county.csv\")\n",
    "df_poll0 = df_import.copy()\n",
    "df_poll0['datetime'] = pd.to_datetime(df_poll0['datetime'])\n",
    "\n",
    "df = df_poll0.loc[ df_poll0['county_code'] == 37 ]\n",
    "df.index = df['datetime']\n",
    "df = df.drop(columns= ['datetime'])\n",
    "df = df.resample('W').mean()\n",
    "\n",
    "time_series = df['aqi_O3']\n",
    "\n",
    "time_series\n"
   ]
  },
  {
   "cell_type": "code",
   "execution_count": 5,
   "metadata": {},
   "outputs": [],
   "source": [
    "exog_feature_names = [\n",
    "    'daily_meas_CO', 'daily_meas_Pb',\n",
    "    'daily_meas_SO2', 'daily_meas_PM10', 'daily_meas_PM2.5', \n",
    "    'daily_meas_O3', 'daily_meas_NO2'\n",
    "]\n",
    "\n",
    "df_exog = df[exog_feature_names]\n",
    "df_exog = df_exog.interpolate().fillna(df_exog.mean())\n"
   ]
  },
  {
   "cell_type": "markdown",
   "metadata": {},
   "source": [
    "### Test Train Split\n"
   ]
  },
  {
   "cell_type": "code",
   "execution_count": 6,
   "metadata": {},
   "outputs": [
    {
     "name": "stdout",
     "output_type": "stream",
     "text": [
      "X Shape:  (522,)\n",
      "y Shape:  (98,)\n",
      "test percent:  0.16\n"
     ]
    }
   ],
   "source": [
    "train_test_filter = time_series.index.year < test_year_start\n",
    "\n",
    "train_time_series = time_series.loc[ train_test_filter ]\n",
    "test_time_series = time_series.loc[ ~(train_test_filter) ]\n",
    "\n",
    "\n",
    "print(\"X Shape: \", train_time_series.shape)\n",
    "print(\"y Shape: \", test_time_series.shape)\n",
    "\n",
    "print(\"test percent: \", round(len(test_time_series) / (len(test_time_series)+ len(train_time_series)), 2))\n",
    "\n",
    "\n",
    "df_exog_train = df_exog.loc[ train_test_filter ]\n",
    "df_exog_test = df_exog.loc[ ~(train_test_filter) ]"
   ]
  },
  {
   "cell_type": "markdown",
   "metadata": {},
   "source": [
    "## Time Series forecasting \n",
    "[Statsmodel example notebooks](https://github.com/statsmodels/statsmodels/tree/master/examples/notebooks)"
   ]
  },
  {
   "cell_type": "markdown",
   "metadata": {},
   "source": [
    "__K Folds Cross Validation__"
   ]
  },
  {
   "cell_type": "code",
   "execution_count": 7,
   "metadata": {},
   "outputs": [
    {
     "name": "stdout",
     "output_type": "stream",
     "text": [
      "TimeSeriesSplit(gap=0, max_train_size=None, n_splits=3, test_size=None)\n",
      "Fold 0:\n",
      "  Train: index=(132,)\n",
      "  Test:  index=(130,)\n",
      "Fold 1:\n",
      "  Train: index=(262,)\n",
      "  Test:  index=(130,)\n",
      "Fold 2:\n",
      "  Train: index=(392,)\n",
      "  Test:  index=(130,)\n",
      "Trian Test Idx Lengths: 3 3\n"
     ]
    }
   ],
   "source": [
    "from sklearn.model_selection import TimeSeriesSplit\n",
    "\n",
    "tss = TimeSeriesSplit(n_splits = n_splits)\n",
    "print(tss)\n",
    "\n",
    "tr_idx_list = []\n",
    "val_idx_list = []\n",
    "for i, (train_index, test_index) in enumerate(tss.split(train_time_series)):\n",
    "    print(f\"Fold {i}:\")\n",
    "    print(f\"  Train: index={train_index.shape}\")\n",
    "    print(f\"  Test:  index={test_index.shape}\")\n",
    "    tr_idx_list.append(train_index)\n",
    "    val_idx_list.append(test_index)\n",
    "\n",
    "print(\"Trian Test Idx Lengths:\", len(tr_idx_list), len(val_idx_list))"
   ]
  },
  {
   "cell_type": "markdown",
   "metadata": {},
   "source": [
    "------------------------\n",
    "## Model Options\n",
    "After doing some intial testing with the pmdarima package we are looking into the following models\n",
    "Models to Try:\n",
    "\n",
    "    SARIMA(2,0,2)x(3,1,0)[52]\n",
    "    \n",
    "    SARIMA(1,0,2)x(3,1,0)[52]\n"
   ]
  },
  {
   "cell_type": "code",
   "execution_count": 8,
   "metadata": {},
   "outputs": [],
   "source": [
    "model_outcome_list = []\n",
    "accuracy_list = []"
   ]
  },
  {
   "cell_type": "markdown",
   "metadata": {},
   "source": [
    "#### Model #1: "
   ]
  },
  {
   "cell_type": "code",
   "execution_count": 10,
   "metadata": {},
   "outputs": [],
   "source": [
    "from statsmodels.tsa.statespace.sarimax import SARIMAX"
   ]
  },
  {
   "cell_type": "code",
   "execution_count": 106,
   "metadata": {},
   "outputs": [],
   "source": [
    "my_order = (1, 0, 1)\n",
    "my_seasonal_order = (3, 0, 0, season)\n"
   ]
  },
  {
   "cell_type": "code",
   "execution_count": 113,
   "metadata": {},
   "outputs": [],
   "source": [
    "import flatdict"
   ]
  },
  {
   "cell_type": "code",
   "execution_count": 118,
   "metadata": {},
   "outputs": [
    {
     "data": {
      "text/plain": [
       "<module 'accuracy' from '/Users/nickbenelli/Workspace/GitHub/Time-Series-Methods/accuracy.py'>"
      ]
     },
     "execution_count": 118,
     "metadata": {},
     "output_type": "execute_result"
    }
   ],
   "source": [
    "import evaluator\n",
    "import importlib\n",
    "importlib.reload(evaluator)\n",
    "import evaluator\n",
    "import accuracy\n",
    "importlib.reload(accuracy)\n"
   ]
  },
  {
   "cell_type": "code",
   "execution_count": 119,
   "metadata": {},
   "outputs": [],
   "source": [
    "def forecast_model(model, steps =None,df_exog_test=None):\n",
    "    \"\"\"\n",
    "    Forecast using a fitted SARIMAX model.\n",
    "\n",
    "    Parameters:\n",
    "    - model: Fitted SARIMAX model.\n",
    "    - steps: Number of steps to forecast.\n",
    "\n",
    "    Returns:\n",
    "    - fcast = model.get_forecast()\n",
    "    \"\"\"\n",
    "    # Forecast\n",
    "    fcast = model.get_forecast(steps=steps, exog=df_exog_test,  print_result= False)\n",
    "    data_pred = fcast.predicted_mean\n",
    "    ci = fcast.conf_int()\n",
    "    ci.index = fcast.predicted_mean.index\n",
    "    fcast.ci = ci\n",
    "    fcast.pred_data = data_pred\n",
    "    fcast.pred_vals = data_pred.values\n",
    "    return fcast"
   ]
  },
  {
   "cell_type": "code",
   "execution_count": 120,
   "metadata": {},
   "outputs": [],
   "source": [
    "accuracy_list = []\n",
    "forecast_results = []\n",
    "models = []\n",
    "use_exogen = True\n"
   ]
  },
  {
   "cell_type": "code",
   "execution_count": 121,
   "metadata": {},
   "outputs": [
    {
     "name": "stdout",
     "output_type": "stream",
     "text": [
      "----------------------------------------------\n",
      "k=0\n"
     ]
    },
    {
     "name": "stderr",
     "output_type": "stream",
     "text": [
      "/Library/Frameworks/Python.framework/Versions/3.11/lib/python3.11/site-packages/statsmodels/tsa/statespace/sarimax.py:866: UserWarning: Too few observations to estimate starting parameters for seasonal ARMA. All parameters except for variances will be set to zeros.\n",
      "  warn('Too few observations to estimate starting parameters%s.'\n",
      " This problem is unconstrained.\n"
     ]
    },
    {
     "name": "stdout",
     "output_type": "stream",
     "text": [
      "RUNNING THE L-BFGS-B CODE\n",
      "\n",
      "           * * *\n",
      "\n",
      "Machine precision = 2.220D-16\n",
      " N =           13     M =           10\n",
      "\n",
      "At X0         0 variables are exactly at the bounds\n",
      "\n",
      "At iterate    0    f=  2.77215D+00    |proj g|=  8.65822D-02\n",
      "\n",
      "At iterate    5    f=  2.77059D+00    |proj g|=  2.24801D-01\n",
      "\n",
      "At iterate   10    f=  2.76728D+00    |proj g|=  1.78823D-02\n",
      "\n",
      "At iterate   15    f=  2.76653D+00    |proj g|=  1.07138D-01\n",
      "\n",
      "At iterate   20    f=  2.76218D+00    |proj g|=  1.80466D-01\n",
      "\n",
      "At iterate   25    f=  2.75563D+00    |proj g|=  3.48925D-02\n",
      "\n",
      "At iterate   30    f=  2.74379D+00    |proj g|=  1.78013D-02\n",
      "\n",
      "At iterate   35    f=  2.70341D+00    |proj g|=  2.18543D-01\n",
      "\n",
      "At iterate   40    f=  2.67635D+00    |proj g|=  3.78515D-02\n",
      "\n",
      "At iterate   45    f=  2.66526D+00    |proj g|=  4.38991D-02\n"
     ]
    },
    {
     "name": "stderr",
     "output_type": "stream",
     "text": [
      "/Library/Frameworks/Python.framework/Versions/3.11/lib/python3.11/site-packages/statsmodels/base/model.py:607: ConvergenceWarning: Maximum Likelihood optimization failed to converge. Check mle_retvals\n",
      "  warnings.warn(\"Maximum Likelihood optimization failed to \"\n"
     ]
    },
    {
     "name": "stdout",
     "output_type": "stream",
     "text": [
      "\n",
      "At iterate   50    f=  2.66054D+00    |proj g|=  3.89567D-03\n",
      "\n",
      "           * * *\n",
      "\n",
      "Tit   = total number of iterations\n",
      "Tnf   = total number of function evaluations\n",
      "Tnint = total number of segments explored during Cauchy searches\n",
      "Skip  = number of BFGS updates skipped\n",
      "Nact  = number of active bounds at final generalized Cauchy point\n",
      "Projg = norm of the final projected gradient\n",
      "F     = final function value\n",
      "\n",
      "           * * *\n",
      "\n",
      "   N    Tit     Tnf  Tnint  Skip  Nact     Projg        F\n",
      "   13     50     58      1     0     0   3.896D-03   2.661D+00\n",
      "  F =   2.6605379994121847     \n",
      "\n",
      "STOP: TOTAL NO. of ITERATIONS REACHED LIMIT                 \n"
     ]
    },
    {
     "name": "stderr",
     "output_type": "stream",
     "text": [
      "/Library/Frameworks/Python.framework/Versions/3.11/lib/python3.11/site-packages/statsmodels/tsa/statespace/representation.py:374: FutureWarning: Unknown keyword arguments: dict_keys(['print_result']).Passing unknown keyword arguments will raise a TypeError beginning in version 0.15.\n",
      "  warnings.warn(msg, FutureWarning)\n",
      "/Library/Frameworks/Python.framework/Versions/3.11/lib/python3.11/site-packages/statsmodels/tsa/statespace/representation.py:374: FutureWarning: Unknown keyword arguments: dict_keys(['print_result']).Passing unknown keyword arguments will raise a TypeError beginning in version 0.15.\n",
      "  warnings.warn(msg, FutureWarning)\n"
     ]
    },
    {
     "name": "stdout",
     "output_type": "stream",
     "text": [
      "----------------------------------------------\n",
      "k=1\n"
     ]
    },
    {
     "name": "stderr",
     "output_type": "stream",
     "text": [
      " This problem is unconstrained.\n"
     ]
    },
    {
     "name": "stdout",
     "output_type": "stream",
     "text": [
      "RUNNING THE L-BFGS-B CODE\n",
      "\n",
      "           * * *\n",
      "\n",
      "Machine precision = 2.220D-16\n",
      " N =           13     M =           10\n",
      "\n",
      "At X0         0 variables are exactly at the bounds\n",
      "\n",
      "At iterate    0    f=  2.82214D+00    |proj g|=  3.24273D-01\n",
      "\n",
      "At iterate    5    f=  2.81827D+00    |proj g|=  7.95127D-02\n",
      "\n",
      "At iterate   10    f=  2.81704D+00    |proj g|=  1.73875D-02\n",
      "\n",
      "At iterate   15    f=  2.81687D+00    |proj g|=  1.56936D-02\n",
      "\n",
      "At iterate   20    f=  2.81663D+00    |proj g|=  3.23797D-02\n",
      "\n",
      "At iterate   25    f=  2.81654D+00    |proj g|=  3.02524D-02\n",
      "\n",
      "At iterate   30    f=  2.81594D+00    |proj g|=  1.13466D-02\n",
      "\n",
      "At iterate   35    f=  2.81535D+00    |proj g|=  9.27981D-03\n",
      "\n",
      "At iterate   40    f=  2.80406D+00    |proj g|=  5.50288D-02\n",
      "\n",
      "At iterate   45    f=  2.74970D+00    |proj g|=  7.57736D-02\n"
     ]
    },
    {
     "name": "stderr",
     "output_type": "stream",
     "text": [
      "/Library/Frameworks/Python.framework/Versions/3.11/lib/python3.11/site-packages/statsmodels/base/model.py:607: ConvergenceWarning: Maximum Likelihood optimization failed to converge. Check mle_retvals\n",
      "  warnings.warn(\"Maximum Likelihood optimization failed to \"\n"
     ]
    },
    {
     "name": "stdout",
     "output_type": "stream",
     "text": [
      "\n",
      "At iterate   50    f=  2.74012D+00    |proj g|=  2.16055D-02\n",
      "\n",
      "           * * *\n",
      "\n",
      "Tit   = total number of iterations\n",
      "Tnf   = total number of function evaluations\n",
      "Tnint = total number of segments explored during Cauchy searches\n",
      "Skip  = number of BFGS updates skipped\n",
      "Nact  = number of active bounds at final generalized Cauchy point\n",
      "Projg = norm of the final projected gradient\n",
      "F     = final function value\n",
      "\n",
      "           * * *\n",
      "\n",
      "   N    Tit     Tnf  Tnint  Skip  Nact     Projg        F\n",
      "   13     50     58      1     0     0   2.161D-02   2.740D+00\n",
      "  F =   2.7401181742339502     \n",
      "\n",
      "STOP: TOTAL NO. of ITERATIONS REACHED LIMIT                 \n"
     ]
    },
    {
     "name": "stderr",
     "output_type": "stream",
     "text": [
      "/Library/Frameworks/Python.framework/Versions/3.11/lib/python3.11/site-packages/statsmodels/tsa/statespace/representation.py:374: FutureWarning: Unknown keyword arguments: dict_keys(['print_result']).Passing unknown keyword arguments will raise a TypeError beginning in version 0.15.\n",
      "  warnings.warn(msg, FutureWarning)\n",
      "/Library/Frameworks/Python.framework/Versions/3.11/lib/python3.11/site-packages/statsmodels/tsa/statespace/representation.py:374: FutureWarning: Unknown keyword arguments: dict_keys(['print_result']).Passing unknown keyword arguments will raise a TypeError beginning in version 0.15.\n",
      "  warnings.warn(msg, FutureWarning)\n"
     ]
    },
    {
     "name": "stdout",
     "output_type": "stream",
     "text": [
      "----------------------------------------------\n",
      "k=2\n",
      "RUNNING THE L-BFGS-B CODE\n",
      "\n",
      "           * * *\n",
      "\n",
      "Machine precision = 2.220D-16\n",
      " N =           13     M =           10\n",
      "\n",
      "At X0         0 variables are exactly at the bounds\n",
      "\n",
      "At iterate    0    f=  2.85653D+00    |proj g|=  4.74211D-01\n"
     ]
    },
    {
     "name": "stderr",
     "output_type": "stream",
     "text": [
      " This problem is unconstrained.\n"
     ]
    },
    {
     "name": "stdout",
     "output_type": "stream",
     "text": [
      "\n",
      "At iterate    5    f=  2.83231D+00    |proj g|=  2.95867D-02\n",
      "\n",
      "At iterate   10    f=  2.81127D+00    |proj g|=  6.93711D-02\n",
      "\n",
      "At iterate   15    f=  2.79194D+00    |proj g|=  4.54725D-02\n",
      "\n",
      "At iterate   20    f=  2.76916D+00    |proj g|=  1.31722D-02\n",
      "\n",
      "At iterate   25    f=  2.76558D+00    |proj g|=  7.07738D-03\n",
      "\n",
      "At iterate   30    f=  2.76178D+00    |proj g|=  2.02739D-03\n"
     ]
    },
    {
     "ename": "KeyboardInterrupt",
     "evalue": "",
     "output_type": "error",
     "traceback": [
      "\u001b[0;31m---------------------------------------------------------------------------\u001b[0m",
      "\u001b[0;31mKeyboardInterrupt\u001b[0m                         Traceback (most recent call last)",
      "\u001b[1;32m/Users/nickbenelli/Workspace/GitHub/Time-Series-Methods/AQI-Ozone-Model-Fit-Weekly.ipynb Cell 23\u001b[0m line \u001b[0;36m1\n\u001b[1;32m     <a href='vscode-notebook-cell:/Users/nickbenelli/Workspace/GitHub/Time-Series-Methods/AQI-Ozone-Model-Fit-Weekly.ipynb#X32sZmlsZQ%3D%3D?line=15'>16</a>\u001b[0m \u001b[39m# Model Fit\u001b[39;00m\n\u001b[1;32m     <a href='vscode-notebook-cell:/Users/nickbenelli/Workspace/GitHub/Time-Series-Methods/AQI-Ozone-Model-Fit-Weekly.ipynb#X32sZmlsZQ%3D%3D?line=16'>17</a>\u001b[0m model \u001b[39m=\u001b[39m SARIMAX(tr_data, exog\u001b[39m=\u001b[39mdf_exog_tr, order\u001b[39m=\u001b[39mmy_order, seasonal_order\u001b[39m=\u001b[39mmy_seasonal_order)\n\u001b[0;32m---> <a href='vscode-notebook-cell:/Users/nickbenelli/Workspace/GitHub/Time-Series-Methods/AQI-Ozone-Model-Fit-Weekly.ipynb#X32sZmlsZQ%3D%3D?line=17'>18</a>\u001b[0m model_result \u001b[39m=\u001b[39m model\u001b[39m.\u001b[39;49mfit()\n\u001b[1;32m     <a href='vscode-notebook-cell:/Users/nickbenelli/Workspace/GitHub/Time-Series-Methods/AQI-Ozone-Model-Fit-Weekly.ipynb#X32sZmlsZQ%3D%3D?line=19'>20</a>\u001b[0m ModelEvaluator \u001b[39m=\u001b[39m evaluator\u001b[39m.\u001b[39mSARIMAXEvaluator(model_result)\n\u001b[1;32m     <a href='vscode-notebook-cell:/Users/nickbenelli/Workspace/GitHub/Time-Series-Methods/AQI-Ozone-Model-Fit-Weekly.ipynb#X32sZmlsZQ%3D%3D?line=21'>22</a>\u001b[0m forecast_step \u001b[39m=\u001b[39m \u001b[39mlen\u001b[39m(val_data)\n",
      "File \u001b[0;32m/Library/Frameworks/Python.framework/Versions/3.11/lib/python3.11/site-packages/statsmodels/tsa/statespace/mlemodel.py:704\u001b[0m, in \u001b[0;36mMLEModel.fit\u001b[0;34m(self, start_params, transformed, includes_fixed, cov_type, cov_kwds, method, maxiter, full_output, disp, callback, return_params, optim_score, optim_complex_step, optim_hessian, flags, low_memory, **kwargs)\u001b[0m\n\u001b[1;32m    702\u001b[0m         flags[\u001b[39m'\u001b[39m\u001b[39mhessian_method\u001b[39m\u001b[39m'\u001b[39m] \u001b[39m=\u001b[39m optim_hessian\n\u001b[1;32m    703\u001b[0m     fargs \u001b[39m=\u001b[39m (flags,)\n\u001b[0;32m--> 704\u001b[0m     mlefit \u001b[39m=\u001b[39m \u001b[39msuper\u001b[39;49m(MLEModel, \u001b[39mself\u001b[39;49m)\u001b[39m.\u001b[39;49mfit(start_params, method\u001b[39m=\u001b[39;49mmethod,\n\u001b[1;32m    705\u001b[0m                                        fargs\u001b[39m=\u001b[39;49mfargs,\n\u001b[1;32m    706\u001b[0m                                        maxiter\u001b[39m=\u001b[39;49mmaxiter,\n\u001b[1;32m    707\u001b[0m                                        full_output\u001b[39m=\u001b[39;49mfull_output,\n\u001b[1;32m    708\u001b[0m                                        disp\u001b[39m=\u001b[39;49mdisp, callback\u001b[39m=\u001b[39;49mcallback,\n\u001b[1;32m    709\u001b[0m                                        skip_hessian\u001b[39m=\u001b[39;49m\u001b[39mTrue\u001b[39;49;00m, \u001b[39m*\u001b[39;49m\u001b[39m*\u001b[39;49mkwargs)\n\u001b[1;32m    711\u001b[0m \u001b[39m# Just return the fitted parameters if requested\u001b[39;00m\n\u001b[1;32m    712\u001b[0m \u001b[39mif\u001b[39;00m return_params:\n",
      "File \u001b[0;32m/Library/Frameworks/Python.framework/Versions/3.11/lib/python3.11/site-packages/statsmodels/base/model.py:566\u001b[0m, in \u001b[0;36mLikelihoodModel.fit\u001b[0;34m(self, start_params, method, maxiter, full_output, disp, fargs, callback, retall, skip_hessian, **kwargs)\u001b[0m\n\u001b[1;32m    563\u001b[0m     \u001b[39mdel\u001b[39;00m kwargs[\u001b[39m\"\u001b[39m\u001b[39muse_t\u001b[39m\u001b[39m\"\u001b[39m]\n\u001b[1;32m    565\u001b[0m optimizer \u001b[39m=\u001b[39m Optimizer()\n\u001b[0;32m--> 566\u001b[0m xopt, retvals, optim_settings \u001b[39m=\u001b[39m optimizer\u001b[39m.\u001b[39;49m_fit(f, score, start_params,\n\u001b[1;32m    567\u001b[0m                                                fargs, kwargs,\n\u001b[1;32m    568\u001b[0m                                                hessian\u001b[39m=\u001b[39;49mhess,\n\u001b[1;32m    569\u001b[0m                                                method\u001b[39m=\u001b[39;49mmethod,\n\u001b[1;32m    570\u001b[0m                                                disp\u001b[39m=\u001b[39;49mdisp,\n\u001b[1;32m    571\u001b[0m                                                maxiter\u001b[39m=\u001b[39;49mmaxiter,\n\u001b[1;32m    572\u001b[0m                                                callback\u001b[39m=\u001b[39;49mcallback,\n\u001b[1;32m    573\u001b[0m                                                retall\u001b[39m=\u001b[39;49mretall,\n\u001b[1;32m    574\u001b[0m                                                full_output\u001b[39m=\u001b[39;49mfull_output)\n\u001b[1;32m    575\u001b[0m \u001b[39m# Restore cov_type, cov_kwds and use_t\u001b[39;00m\n\u001b[1;32m    576\u001b[0m optim_settings\u001b[39m.\u001b[39mupdate(kwds)\n",
      "File \u001b[0;32m/Library/Frameworks/Python.framework/Versions/3.11/lib/python3.11/site-packages/statsmodels/base/optimizer.py:242\u001b[0m, in \u001b[0;36mOptimizer._fit\u001b[0;34m(self, objective, gradient, start_params, fargs, kwargs, hessian, method, maxiter, full_output, disp, callback, retall)\u001b[0m\n\u001b[1;32m    239\u001b[0m     fit_funcs\u001b[39m.\u001b[39mupdate(extra_fit_funcs)\n\u001b[1;32m    241\u001b[0m func \u001b[39m=\u001b[39m fit_funcs[method]\n\u001b[0;32m--> 242\u001b[0m xopt, retvals \u001b[39m=\u001b[39m func(objective, gradient, start_params, fargs, kwargs,\n\u001b[1;32m    243\u001b[0m                      disp\u001b[39m=\u001b[39;49mdisp, maxiter\u001b[39m=\u001b[39;49mmaxiter, callback\u001b[39m=\u001b[39;49mcallback,\n\u001b[1;32m    244\u001b[0m                      retall\u001b[39m=\u001b[39;49mretall, full_output\u001b[39m=\u001b[39;49mfull_output,\n\u001b[1;32m    245\u001b[0m                      hess\u001b[39m=\u001b[39;49mhessian)\n\u001b[1;32m    247\u001b[0m optim_settings \u001b[39m=\u001b[39m {\u001b[39m'\u001b[39m\u001b[39moptimizer\u001b[39m\u001b[39m'\u001b[39m: method, \u001b[39m'\u001b[39m\u001b[39mstart_params\u001b[39m\u001b[39m'\u001b[39m: start_params,\n\u001b[1;32m    248\u001b[0m                   \u001b[39m'\u001b[39m\u001b[39mmaxiter\u001b[39m\u001b[39m'\u001b[39m: maxiter, \u001b[39m'\u001b[39m\u001b[39mfull_output\u001b[39m\u001b[39m'\u001b[39m: full_output,\n\u001b[1;32m    249\u001b[0m                   \u001b[39m'\u001b[39m\u001b[39mdisp\u001b[39m\u001b[39m'\u001b[39m: disp, \u001b[39m'\u001b[39m\u001b[39mfargs\u001b[39m\u001b[39m'\u001b[39m: fargs, \u001b[39m'\u001b[39m\u001b[39mcallback\u001b[39m\u001b[39m'\u001b[39m: callback,\n\u001b[1;32m    250\u001b[0m                   \u001b[39m'\u001b[39m\u001b[39mretall\u001b[39m\u001b[39m'\u001b[39m: retall, \u001b[39m\"\u001b[39m\u001b[39mextra_fit_funcs\u001b[39m\u001b[39m\"\u001b[39m: extra_fit_funcs}\n\u001b[1;32m    251\u001b[0m optim_settings\u001b[39m.\u001b[39mupdate(kwargs)\n",
      "File \u001b[0;32m/Library/Frameworks/Python.framework/Versions/3.11/lib/python3.11/site-packages/statsmodels/base/optimizer.py:659\u001b[0m, in \u001b[0;36m_fit_lbfgs\u001b[0;34m(f, score, start_params, fargs, kwargs, disp, maxiter, callback, retall, full_output, hess)\u001b[0m\n\u001b[1;32m    656\u001b[0m \u001b[39melif\u001b[39;00m approx_grad:\n\u001b[1;32m    657\u001b[0m     func \u001b[39m=\u001b[39m f\n\u001b[0;32m--> 659\u001b[0m retvals \u001b[39m=\u001b[39m optimize\u001b[39m.\u001b[39;49mfmin_l_bfgs_b(func, start_params, maxiter\u001b[39m=\u001b[39;49mmaxiter,\n\u001b[1;32m    660\u001b[0m                                  callback\u001b[39m=\u001b[39;49mcallback, args\u001b[39m=\u001b[39;49mfargs,\n\u001b[1;32m    661\u001b[0m                                  bounds\u001b[39m=\u001b[39;49mbounds, disp\u001b[39m=\u001b[39;49mdisp,\n\u001b[1;32m    662\u001b[0m                                  \u001b[39m*\u001b[39;49m\u001b[39m*\u001b[39;49mextra_kwargs)\n\u001b[1;32m    664\u001b[0m \u001b[39mif\u001b[39;00m full_output:\n\u001b[1;32m    665\u001b[0m     xopt, fopt, d \u001b[39m=\u001b[39m retvals\n",
      "File \u001b[0;32m/Library/Frameworks/Python.framework/Versions/3.11/lib/python3.11/site-packages/scipy/optimize/_lbfgsb_py.py:197\u001b[0m, in \u001b[0;36mfmin_l_bfgs_b\u001b[0;34m(func, x0, fprime, args, approx_grad, bounds, m, factr, pgtol, epsilon, iprint, maxfun, maxiter, disp, callback, maxls)\u001b[0m\n\u001b[1;32m    185\u001b[0m \u001b[39m# build options\u001b[39;00m\n\u001b[1;32m    186\u001b[0m opts \u001b[39m=\u001b[39m {\u001b[39m'\u001b[39m\u001b[39mdisp\u001b[39m\u001b[39m'\u001b[39m: disp,\n\u001b[1;32m    187\u001b[0m         \u001b[39m'\u001b[39m\u001b[39miprint\u001b[39m\u001b[39m'\u001b[39m: iprint,\n\u001b[1;32m    188\u001b[0m         \u001b[39m'\u001b[39m\u001b[39mmaxcor\u001b[39m\u001b[39m'\u001b[39m: m,\n\u001b[0;32m   (...)\u001b[0m\n\u001b[1;32m    194\u001b[0m         \u001b[39m'\u001b[39m\u001b[39mcallback\u001b[39m\u001b[39m'\u001b[39m: callback,\n\u001b[1;32m    195\u001b[0m         \u001b[39m'\u001b[39m\u001b[39mmaxls\u001b[39m\u001b[39m'\u001b[39m: maxls}\n\u001b[0;32m--> 197\u001b[0m res \u001b[39m=\u001b[39m _minimize_lbfgsb(fun, x0, args\u001b[39m=\u001b[39;49margs, jac\u001b[39m=\u001b[39;49mjac, bounds\u001b[39m=\u001b[39;49mbounds,\n\u001b[1;32m    198\u001b[0m                        \u001b[39m*\u001b[39;49m\u001b[39m*\u001b[39;49mopts)\n\u001b[1;32m    199\u001b[0m d \u001b[39m=\u001b[39m {\u001b[39m'\u001b[39m\u001b[39mgrad\u001b[39m\u001b[39m'\u001b[39m: res[\u001b[39m'\u001b[39m\u001b[39mjac\u001b[39m\u001b[39m'\u001b[39m],\n\u001b[1;32m    200\u001b[0m      \u001b[39m'\u001b[39m\u001b[39mtask\u001b[39m\u001b[39m'\u001b[39m: res[\u001b[39m'\u001b[39m\u001b[39mmessage\u001b[39m\u001b[39m'\u001b[39m],\n\u001b[1;32m    201\u001b[0m      \u001b[39m'\u001b[39m\u001b[39mfuncalls\u001b[39m\u001b[39m'\u001b[39m: res[\u001b[39m'\u001b[39m\u001b[39mnfev\u001b[39m\u001b[39m'\u001b[39m],\n\u001b[1;32m    202\u001b[0m      \u001b[39m'\u001b[39m\u001b[39mnit\u001b[39m\u001b[39m'\u001b[39m: res[\u001b[39m'\u001b[39m\u001b[39mnit\u001b[39m\u001b[39m'\u001b[39m],\n\u001b[1;32m    203\u001b[0m      \u001b[39m'\u001b[39m\u001b[39mwarnflag\u001b[39m\u001b[39m'\u001b[39m: res[\u001b[39m'\u001b[39m\u001b[39mstatus\u001b[39m\u001b[39m'\u001b[39m]}\n\u001b[1;32m    204\u001b[0m f \u001b[39m=\u001b[39m res[\u001b[39m'\u001b[39m\u001b[39mfun\u001b[39m\u001b[39m'\u001b[39m]\n",
      "File \u001b[0;32m/Library/Frameworks/Python.framework/Versions/3.11/lib/python3.11/site-packages/scipy/optimize/_lbfgsb_py.py:359\u001b[0m, in \u001b[0;36m_minimize_lbfgsb\u001b[0;34m(fun, x0, args, jac, bounds, disp, maxcor, ftol, gtol, eps, maxfun, maxiter, iprint, callback, maxls, finite_diff_rel_step, **unknown_options)\u001b[0m\n\u001b[1;32m    353\u001b[0m task_str \u001b[39m=\u001b[39m task\u001b[39m.\u001b[39mtobytes()\n\u001b[1;32m    354\u001b[0m \u001b[39mif\u001b[39;00m task_str\u001b[39m.\u001b[39mstartswith(\u001b[39mb\u001b[39m\u001b[39m'\u001b[39m\u001b[39mFG\u001b[39m\u001b[39m'\u001b[39m):\n\u001b[1;32m    355\u001b[0m     \u001b[39m# The minimization routine wants f and g at the current x.\u001b[39;00m\n\u001b[1;32m    356\u001b[0m     \u001b[39m# Note that interruptions due to maxfun are postponed\u001b[39;00m\n\u001b[1;32m    357\u001b[0m     \u001b[39m# until the completion of the current minimization iteration.\u001b[39;00m\n\u001b[1;32m    358\u001b[0m     \u001b[39m# Overwrite f and g:\u001b[39;00m\n\u001b[0;32m--> 359\u001b[0m     f, g \u001b[39m=\u001b[39m func_and_grad(x)\n\u001b[1;32m    360\u001b[0m \u001b[39melif\u001b[39;00m task_str\u001b[39m.\u001b[39mstartswith(\u001b[39mb\u001b[39m\u001b[39m'\u001b[39m\u001b[39mNEW_X\u001b[39m\u001b[39m'\u001b[39m):\n\u001b[1;32m    361\u001b[0m     \u001b[39m# new iteration\u001b[39;00m\n\u001b[1;32m    362\u001b[0m     n_iterations \u001b[39m+\u001b[39m\u001b[39m=\u001b[39m \u001b[39m1\u001b[39m\n",
      "File \u001b[0;32m/Library/Frameworks/Python.framework/Versions/3.11/lib/python3.11/site-packages/scipy/optimize/_differentiable_functions.py:286\u001b[0m, in \u001b[0;36mScalarFunction.fun_and_grad\u001b[0;34m(self, x)\u001b[0m\n\u001b[1;32m    284\u001b[0m     \u001b[39mself\u001b[39m\u001b[39m.\u001b[39m_update_x_impl(x)\n\u001b[1;32m    285\u001b[0m \u001b[39mself\u001b[39m\u001b[39m.\u001b[39m_update_fun()\n\u001b[0;32m--> 286\u001b[0m \u001b[39mself\u001b[39;49m\u001b[39m.\u001b[39;49m_update_grad()\n\u001b[1;32m    287\u001b[0m \u001b[39mreturn\u001b[39;00m \u001b[39mself\u001b[39m\u001b[39m.\u001b[39mf, \u001b[39mself\u001b[39m\u001b[39m.\u001b[39mg\n",
      "File \u001b[0;32m/Library/Frameworks/Python.framework/Versions/3.11/lib/python3.11/site-packages/scipy/optimize/_differentiable_functions.py:256\u001b[0m, in \u001b[0;36mScalarFunction._update_grad\u001b[0;34m(self)\u001b[0m\n\u001b[1;32m    254\u001b[0m \u001b[39mdef\u001b[39;00m \u001b[39m_update_grad\u001b[39m(\u001b[39mself\u001b[39m):\n\u001b[1;32m    255\u001b[0m     \u001b[39mif\u001b[39;00m \u001b[39mnot\u001b[39;00m \u001b[39mself\u001b[39m\u001b[39m.\u001b[39mg_updated:\n\u001b[0;32m--> 256\u001b[0m         \u001b[39mself\u001b[39;49m\u001b[39m.\u001b[39;49m_update_grad_impl()\n\u001b[1;32m    257\u001b[0m         \u001b[39mself\u001b[39m\u001b[39m.\u001b[39mg_updated \u001b[39m=\u001b[39m \u001b[39mTrue\u001b[39;00m\n",
      "File \u001b[0;32m/Library/Frameworks/Python.framework/Versions/3.11/lib/python3.11/site-packages/scipy/optimize/_differentiable_functions.py:173\u001b[0m, in \u001b[0;36mScalarFunction.__init__.<locals>.update_grad\u001b[0;34m()\u001b[0m\n\u001b[1;32m    171\u001b[0m \u001b[39mself\u001b[39m\u001b[39m.\u001b[39m_update_fun()\n\u001b[1;32m    172\u001b[0m \u001b[39mself\u001b[39m\u001b[39m.\u001b[39mngev \u001b[39m+\u001b[39m\u001b[39m=\u001b[39m \u001b[39m1\u001b[39m\n\u001b[0;32m--> 173\u001b[0m \u001b[39mself\u001b[39m\u001b[39m.\u001b[39mg \u001b[39m=\u001b[39m approx_derivative(fun_wrapped, \u001b[39mself\u001b[39;49m\u001b[39m.\u001b[39;49mx, f0\u001b[39m=\u001b[39;49m\u001b[39mself\u001b[39;49m\u001b[39m.\u001b[39;49mf,\n\u001b[1;32m    174\u001b[0m                            \u001b[39m*\u001b[39;49m\u001b[39m*\u001b[39;49mfinite_diff_options)\n",
      "File \u001b[0;32m/Library/Frameworks/Python.framework/Versions/3.11/lib/python3.11/site-packages/scipy/optimize/_numdiff.py:505\u001b[0m, in \u001b[0;36mapprox_derivative\u001b[0;34m(fun, x0, method, rel_step, abs_step, f0, bounds, sparsity, as_linear_operator, args, kwargs)\u001b[0m\n\u001b[1;32m    502\u001b[0m     use_one_sided \u001b[39m=\u001b[39m \u001b[39mFalse\u001b[39;00m\n\u001b[1;32m    504\u001b[0m \u001b[39mif\u001b[39;00m sparsity \u001b[39mis\u001b[39;00m \u001b[39mNone\u001b[39;00m:\n\u001b[0;32m--> 505\u001b[0m     \u001b[39mreturn\u001b[39;00m _dense_difference(fun_wrapped, x0, f0, h,\n\u001b[1;32m    506\u001b[0m                              use_one_sided, method)\n\u001b[1;32m    507\u001b[0m \u001b[39melse\u001b[39;00m:\n\u001b[1;32m    508\u001b[0m     \u001b[39mif\u001b[39;00m \u001b[39mnot\u001b[39;00m issparse(sparsity) \u001b[39mand\u001b[39;00m \u001b[39mlen\u001b[39m(sparsity) \u001b[39m==\u001b[39m \u001b[39m2\u001b[39m:\n",
      "File \u001b[0;32m/Library/Frameworks/Python.framework/Versions/3.11/lib/python3.11/site-packages/scipy/optimize/_numdiff.py:576\u001b[0m, in \u001b[0;36m_dense_difference\u001b[0;34m(fun, x0, f0, h, use_one_sided, method)\u001b[0m\n\u001b[1;32m    574\u001b[0m     x \u001b[39m=\u001b[39m x0 \u001b[39m+\u001b[39m h_vecs[i]\n\u001b[1;32m    575\u001b[0m     dx \u001b[39m=\u001b[39m x[i] \u001b[39m-\u001b[39m x0[i]  \u001b[39m# Recompute dx as exactly representable number.\u001b[39;00m\n\u001b[0;32m--> 576\u001b[0m     df \u001b[39m=\u001b[39m fun(x) \u001b[39m-\u001b[39m f0\n\u001b[1;32m    577\u001b[0m \u001b[39melif\u001b[39;00m method \u001b[39m==\u001b[39m \u001b[39m'\u001b[39m\u001b[39m3-point\u001b[39m\u001b[39m'\u001b[39m \u001b[39mand\u001b[39;00m use_one_sided[i]:\n\u001b[1;32m    578\u001b[0m     x1 \u001b[39m=\u001b[39m x0 \u001b[39m+\u001b[39m h_vecs[i]\n",
      "File \u001b[0;32m/Library/Frameworks/Python.framework/Versions/3.11/lib/python3.11/site-packages/scipy/optimize/_numdiff.py:456\u001b[0m, in \u001b[0;36mapprox_derivative.<locals>.fun_wrapped\u001b[0;34m(x)\u001b[0m\n\u001b[1;32m    455\u001b[0m \u001b[39mdef\u001b[39;00m \u001b[39mfun_wrapped\u001b[39m(x):\n\u001b[0;32m--> 456\u001b[0m     f \u001b[39m=\u001b[39m np\u001b[39m.\u001b[39matleast_1d(fun(x, \u001b[39m*\u001b[39;49margs, \u001b[39m*\u001b[39;49m\u001b[39m*\u001b[39;49mkwargs))\n\u001b[1;32m    457\u001b[0m     \u001b[39mif\u001b[39;00m f\u001b[39m.\u001b[39mndim \u001b[39m>\u001b[39m \u001b[39m1\u001b[39m:\n\u001b[1;32m    458\u001b[0m         \u001b[39mraise\u001b[39;00m \u001b[39mRuntimeError\u001b[39;00m(\u001b[39m\"\u001b[39m\u001b[39m`fun` return value has \u001b[39m\u001b[39m\"\u001b[39m\n\u001b[1;32m    459\u001b[0m                            \u001b[39m\"\u001b[39m\u001b[39mmore than 1 dimension.\u001b[39m\u001b[39m\"\u001b[39m)\n",
      "File \u001b[0;32m/Library/Frameworks/Python.framework/Versions/3.11/lib/python3.11/site-packages/scipy/optimize/_differentiable_functions.py:137\u001b[0m, in \u001b[0;36mScalarFunction.__init__.<locals>.fun_wrapped\u001b[0;34m(x)\u001b[0m\n\u001b[1;32m    133\u001b[0m \u001b[39mself\u001b[39m\u001b[39m.\u001b[39mnfev \u001b[39m+\u001b[39m\u001b[39m=\u001b[39m \u001b[39m1\u001b[39m\n\u001b[1;32m    134\u001b[0m \u001b[39m# Send a copy because the user may overwrite it.\u001b[39;00m\n\u001b[1;32m    135\u001b[0m \u001b[39m# Overwriting results in undefined behaviour because\u001b[39;00m\n\u001b[1;32m    136\u001b[0m \u001b[39m# fun(self.x) will change self.x, with the two no longer linked.\u001b[39;00m\n\u001b[0;32m--> 137\u001b[0m fx \u001b[39m=\u001b[39m fun(np\u001b[39m.\u001b[39;49mcopy(x), \u001b[39m*\u001b[39;49margs)\n\u001b[1;32m    138\u001b[0m \u001b[39m# Make sure the function returns a true scalar\u001b[39;00m\n\u001b[1;32m    139\u001b[0m \u001b[39mif\u001b[39;00m \u001b[39mnot\u001b[39;00m np\u001b[39m.\u001b[39misscalar(fx):\n",
      "File \u001b[0;32m/Library/Frameworks/Python.framework/Versions/3.11/lib/python3.11/site-packages/statsmodels/base/model.py:534\u001b[0m, in \u001b[0;36mLikelihoodModel.fit.<locals>.f\u001b[0;34m(params, *args)\u001b[0m\n\u001b[1;32m    533\u001b[0m \u001b[39mdef\u001b[39;00m \u001b[39mf\u001b[39m(params, \u001b[39m*\u001b[39margs):\n\u001b[0;32m--> 534\u001b[0m     \u001b[39mreturn\u001b[39;00m \u001b[39m-\u001b[39m\u001b[39mself\u001b[39;49m\u001b[39m.\u001b[39;49mloglike(params, \u001b[39m*\u001b[39;49margs) \u001b[39m/\u001b[39m nobs\n",
      "File \u001b[0;32m/Library/Frameworks/Python.framework/Versions/3.11/lib/python3.11/site-packages/statsmodels/tsa/statespace/mlemodel.py:939\u001b[0m, in \u001b[0;36mMLEModel.loglike\u001b[0;34m(self, params, *args, **kwargs)\u001b[0m\n\u001b[1;32m    936\u001b[0m \u001b[39mif\u001b[39;00m complex_step:\n\u001b[1;32m    937\u001b[0m     kwargs[\u001b[39m'\u001b[39m\u001b[39minversion_method\u001b[39m\u001b[39m'\u001b[39m] \u001b[39m=\u001b[39m INVERT_UNIVARIATE \u001b[39m|\u001b[39m SOLVE_LU\n\u001b[0;32m--> 939\u001b[0m loglike \u001b[39m=\u001b[39m \u001b[39mself\u001b[39;49m\u001b[39m.\u001b[39;49mssm\u001b[39m.\u001b[39;49mloglike(complex_step\u001b[39m=\u001b[39;49mcomplex_step, \u001b[39m*\u001b[39;49m\u001b[39m*\u001b[39;49mkwargs)\n\u001b[1;32m    941\u001b[0m \u001b[39m# Koopman, Shephard, and Doornik recommend maximizing the average\u001b[39;00m\n\u001b[1;32m    942\u001b[0m \u001b[39m# likelihood to avoid scale issues, but the averaging is done\u001b[39;00m\n\u001b[1;32m    943\u001b[0m \u001b[39m# automatically in the base model `fit` method\u001b[39;00m\n\u001b[1;32m    944\u001b[0m \u001b[39mreturn\u001b[39;00m loglike\n",
      "File \u001b[0;32m/Library/Frameworks/Python.framework/Versions/3.11/lib/python3.11/site-packages/statsmodels/tsa/statespace/kalman_filter.py:1001\u001b[0m, in \u001b[0;36mKalmanFilter.loglike\u001b[0;34m(self, **kwargs)\u001b[0m\n\u001b[1;32m    985\u001b[0m \u001b[39m\u001b[39m\u001b[39mr\u001b[39m\u001b[39m\"\"\"\u001b[39;00m\n\u001b[1;32m    986\u001b[0m \u001b[39mCalculate the loglikelihood associated with the statespace model.\u001b[39;00m\n\u001b[1;32m    987\u001b[0m \n\u001b[0;32m   (...)\u001b[0m\n\u001b[1;32m    997\u001b[0m \u001b[39m    The joint loglikelihood.\u001b[39;00m\n\u001b[1;32m    998\u001b[0m \u001b[39m\"\"\"\u001b[39;00m\n\u001b[1;32m    999\u001b[0m kwargs\u001b[39m.\u001b[39msetdefault(\u001b[39m'\u001b[39m\u001b[39mconserve_memory\u001b[39m\u001b[39m'\u001b[39m,\n\u001b[1;32m   1000\u001b[0m                   MEMORY_CONSERVE \u001b[39m^\u001b[39m MEMORY_NO_LIKELIHOOD)\n\u001b[0;32m-> 1001\u001b[0m kfilter \u001b[39m=\u001b[39m \u001b[39mself\u001b[39;49m\u001b[39m.\u001b[39;49m_filter(\u001b[39m*\u001b[39;49m\u001b[39m*\u001b[39;49mkwargs)\n\u001b[1;32m   1002\u001b[0m loglikelihood_burn \u001b[39m=\u001b[39m kwargs\u001b[39m.\u001b[39mget(\u001b[39m'\u001b[39m\u001b[39mloglikelihood_burn\u001b[39m\u001b[39m'\u001b[39m,\n\u001b[1;32m   1003\u001b[0m                                 \u001b[39mself\u001b[39m\u001b[39m.\u001b[39mloglikelihood_burn)\n\u001b[1;32m   1004\u001b[0m \u001b[39mif\u001b[39;00m \u001b[39mnot\u001b[39;00m (kwargs[\u001b[39m'\u001b[39m\u001b[39mconserve_memory\u001b[39m\u001b[39m'\u001b[39m] \u001b[39m&\u001b[39m MEMORY_NO_LIKELIHOOD):\n",
      "File \u001b[0;32m/Library/Frameworks/Python.framework/Versions/3.11/lib/python3.11/site-packages/statsmodels/tsa/statespace/kalman_filter.py:924\u001b[0m, in \u001b[0;36mKalmanFilter._filter\u001b[0;34m(self, filter_method, inversion_method, stability_method, conserve_memory, filter_timing, tolerance, loglikelihood_burn, complex_step)\u001b[0m\n\u001b[1;32m    921\u001b[0m \u001b[39mself\u001b[39m\u001b[39m.\u001b[39m_initialize_state(prefix\u001b[39m=\u001b[39mprefix, complex_step\u001b[39m=\u001b[39mcomplex_step)\n\u001b[1;32m    923\u001b[0m \u001b[39m# Run the filter\u001b[39;00m\n\u001b[0;32m--> 924\u001b[0m kfilter()\n\u001b[1;32m    926\u001b[0m \u001b[39mreturn\u001b[39;00m kfilter\n",
      "\u001b[0;31mKeyboardInterrupt\u001b[0m: "
     ]
    }
   ],
   "source": [
    "\n",
    "\n",
    "\n",
    "for k in range(n_splits):\n",
    "    print('----------------------------------------------')\n",
    "    print(f\"k={k}\")\n",
    "\n",
    "    # tr, val data\n",
    "    tr_iloc_idx = tr_idx_list[k]\n",
    "    val_iloc_idx = val_idx_list[k]\n",
    "\n",
    "    # Subset Data\n",
    "    tr_data = train_time_series.iloc[tr_iloc_idx]\n",
    "    val_data = train_time_series.iloc[val_iloc_idx]\n",
    "\n",
    "    df_exog_tr = df_exog_train.iloc[tr_iloc_idx]\n",
    "    df_exog_val = df_exog_train.iloc[val_iloc_idx]\n",
    "\n",
    "    # Model Fit\n",
    "    model = SARIMAX(tr_data, exog=df_exog_tr, order=my_order, seasonal_order=my_seasonal_order)\n",
    "    model_result = model.fit()\n",
    "\n",
    "\n",
    "\n",
    "    forecast_step = len(val_data)\n",
    "    fcast = forecast_model(model_result, steps= forecast_step, df_exog_test= df_exog_val)\n",
    "    forecast_results.append(fcast)\n",
    "\n",
    "\n",
    "    # Evaluate Data\n",
    "    ModelEvaluator = evaluator.SARIMAXEvaluator(model_result)\n",
    "    model_acc_map =ModelEvaluator.train_and_test_accurcy_metrics(val_data, test_exog_data= df_exog_val)\n",
    "    model_acc_map['k'] = k\n",
    "    k_model_name = f\"{ModelEvaluator.model_name}-k:{k}\"\n",
    "    model_acc_map['model_name'] = k_model_name\n",
    "    model_acc_map['model'] = model\n",
    "    model_acc_map['model_result'] = model_result\n",
    "    acc_map_flat = evaluator.flatten_acc_maps(model_acc_map, delimiter='.'))\n",
    "\n",
    "    # Append to lists\n",
    "    models.append(model_result)\n",
    "    accuracy_list.append(acc_map_flat)\n",
    "\n",
    "\n",
    "\n"
   ]
  },
  {
   "cell_type": "code",
   "execution_count": null,
   "metadata": {},
   "outputs": [
    {
     "data": {
      "text/html": [
       "<div>\n",
       "<style scoped>\n",
       "    .dataframe tbody tr th:only-of-type {\n",
       "        vertical-align: middle;\n",
       "    }\n",
       "\n",
       "    .dataframe tbody tr th {\n",
       "        vertical-align: top;\n",
       "    }\n",
       "\n",
       "    .dataframe thead th {\n",
       "        text-align: right;\n",
       "    }\n",
       "</style>\n",
       "<table border=\"1\" class=\"dataframe\">\n",
       "  <thead>\n",
       "    <tr style=\"text-align: right;\">\n",
       "      <th></th>\n",
       "      <th>train.mape</th>\n",
       "      <th>train.mae</th>\n",
       "      <th>train.mpe</th>\n",
       "      <th>train.rmse</th>\n",
       "      <th>train.corr</th>\n",
       "      <th>train.minmax</th>\n",
       "      <th>train.R_score</th>\n",
       "      <th>train.R2_corr</th>\n",
       "      <th>train.aic</th>\n",
       "      <th>train.bic</th>\n",
       "      <th>...</th>\n",
       "      <th>test.minmax</th>\n",
       "      <th>test.R_score</th>\n",
       "      <th>test.R2_corr</th>\n",
       "      <th>test.aic</th>\n",
       "      <th>test.bic</th>\n",
       "      <th>test.llf</th>\n",
       "      <th>test.model</th>\n",
       "      <th>test.type</th>\n",
       "      <th>k</th>\n",
       "      <th>model_name</th>\n",
       "    </tr>\n",
       "  </thead>\n",
       "  <tbody>\n",
       "    <tr>\n",
       "      <th>0</th>\n",
       "      <td>0.052</td>\n",
       "      <td>2.413</td>\n",
       "      <td>0.007</td>\n",
       "      <td>3.595</td>\n",
       "      <td>0.972</td>\n",
       "      <td>0.049</td>\n",
       "      <td>0.943</td>\n",
       "      <td>0.943</td>\n",
       "      <td>728.38</td>\n",
       "      <td>765.86</td>\n",
       "      <td>...</td>\n",
       "      <td>0.083</td>\n",
       "      <td>0.876</td>\n",
       "      <td>0.876</td>\n",
       "      <td>728.38</td>\n",
       "      <td>765.86</td>\n",
       "      <td>-351.19</td>\n",
       "      <td>SARIMA(1,0,1)x(3,0,0)[52]</td>\n",
       "      <td>predict</td>\n",
       "      <td>0</td>\n",
       "      <td>SARIMA(1,0,1)x(3,0,0)[52]-k:0</td>\n",
       "    </tr>\n",
       "    <tr>\n",
       "      <th>1</th>\n",
       "      <td>0.054</td>\n",
       "      <td>2.679</td>\n",
       "      <td>0.013</td>\n",
       "      <td>3.836</td>\n",
       "      <td>0.969</td>\n",
       "      <td>0.051</td>\n",
       "      <td>0.936</td>\n",
       "      <td>0.936</td>\n",
       "      <td>1461.82</td>\n",
       "      <td>1508.21</td>\n",
       "      <td>...</td>\n",
       "      <td>0.094</td>\n",
       "      <td>0.837</td>\n",
       "      <td>0.837</td>\n",
       "      <td>1461.82</td>\n",
       "      <td>1508.21</td>\n",
       "      <td>-717.91</td>\n",
       "      <td>SARIMA(1,0,1)x(3,0,0)[52]</td>\n",
       "      <td>predict</td>\n",
       "      <td>1</td>\n",
       "      <td>SARIMA(1,0,1)x(3,0,0)[52]-k:1</td>\n",
       "    </tr>\n",
       "  </tbody>\n",
       "</table>\n",
       "<p>2 rows × 28 columns</p>\n",
       "</div>"
      ],
      "text/plain": [
       "   train.mape  train.mae  train.mpe  train.rmse  train.corr  train.minmax  \\\n",
       "0       0.052      2.413      0.007       3.595       0.972         0.049   \n",
       "1       0.054      2.679      0.013       3.836       0.969         0.051   \n",
       "\n",
       "   train.R_score  train.R2_corr  train.aic  train.bic  ...  test.minmax  \\\n",
       "0          0.943          0.943     728.38     765.86  ...        0.083   \n",
       "1          0.936          0.936    1461.82    1508.21  ...        0.094   \n",
       "\n",
       "  test.R_score test.R2_corr  test.aic  test.bic  test.llf  \\\n",
       "0        0.876        0.876    728.38    765.86   -351.19   \n",
       "1        0.837        0.837   1461.82   1508.21   -717.91   \n",
       "\n",
       "                  test.model  test.type  k                     model_name  \n",
       "0  SARIMA(1,0,1)x(3,0,0)[52]    predict  0  SARIMA(1,0,1)x(3,0,0)[52]-k:0  \n",
       "1  SARIMA(1,0,1)x(3,0,0)[52]    predict  1  SARIMA(1,0,1)x(3,0,0)[52]-k:1  \n",
       "\n",
       "[2 rows x 28 columns]"
      ]
     },
     "execution_count": 111,
     "metadata": {},
     "output_type": "execute_result"
    }
   ],
   "source": [
    "pd.DataFrame(accuracy_list)"
   ]
  },
  {
   "cell_type": "code",
   "execution_count": null,
   "metadata": {},
   "outputs": [],
   "source": [
    "# Plot\n",
    "line_pred_style = '--'\n",
    "\n",
    "plt.figure(figsize=(16, 16))\n",
    "\n",
    "for k in range(n_splits):\n",
    "\n",
    "\n",
    "\n",
    "for k in range(n_splits):\n",
    "  plt.subplot(n_splits, 1, (k+1))\n",
    "\n",
    "  # tr, val data\n",
    "  tr_iloc_idx = tr_idx_list[k]\n",
    "  val_iloc_idx = val_idx_list[k]\n",
    "\n",
    "  # Subset Data\n",
    "  tr_data = train_time_series.iloc[tr_iloc_idx]\n",
    "  val_data = train_time_series.iloc[val_iloc_idx]\n",
    "\n",
    "  df_exog_tr = df_exog_train.iloc[tr_iloc_idx]\n",
    "  df_exog_val = df_exog_train.iloc[val_iloc_idx]\n",
    "\n",
    "  \n",
    "  plt.plot(pd.concat([tr_data, val_data], axis=0), marker='o', markersize=3, linewidth=2, label= 'true')\n",
    "\n",
    "  # Model \n",
    "  model = models[k]\n",
    "  model_name = model_name\n",
    "\n",
    "  plt.plot(model.fittedvalues, marker='o', markersize=2, linewidth=3,  label= f'{model_name} fitted')\n",
    "  plt.plot(k_fold_map['pred_data'][k], line_pred_style, markersize=3, linewidth=2, label= f'{model_name} pred')\n",
    "\n",
    "  ci = k_fold_map['ci'][k]\n",
    "\n",
    "  plt.fill_between(ci.index, ci.iloc[:, 0], ci.iloc[:, 1], alpha=0.1, label = f'{model_name} pred ci')\n",
    "  plt.title(f'{model_name} Val k={k}')\n",
    "  if (k+1) == n_splits:\n",
    "    plt.xticks(rotation=45, ha='right')\n",
    "    plt.xlabel('Time (Weeks)')\n",
    "  plt.ylabel(metric_um)\n",
    "\n",
    "    \n",
    "plt.show()"
   ]
  },
  {
   "cell_type": "code",
   "execution_count": null,
   "metadata": {},
   "outputs": [],
   "source": [
    "model_outcome_list.append(k_fold_map)\n",
    "k_fold_map['accuracy'][-1]\n",
    "pd.DataFrame([k_fold_map['accuracy'][-1]])"
   ]
  },
  {
   "cell_type": "markdown",
   "metadata": {},
   "source": [
    "#### R Squared Values "
   ]
  },
  {
   "cell_type": "code",
   "execution_count": null,
   "metadata": {},
   "outputs": [],
   "source": [
    "# Correlated\n",
    "#model.fittedvalues.name = 'Fitted'\n",
    "df_true_v_fitted = pd.concat([data_tr_k, model.fittedvalues], axis=1).iloc[season:]\n",
    "display(df_true_v_fitted.head(5))\n",
    "display(df_true_v_fitted.corr() ** 2)\n",
    "fitted_r2 = (df_true_v_fitted.corr() ** 2).iloc[1,0]\n",
    "print(f\"Model ({model_name}) Fitted R^2: {fitted_r2}\")\n",
    "\n",
    "\n",
    "\n",
    "\n",
    "df_true_v_forecast = pd.concat([data_val_k, data_pred_k], axis=1)\n",
    "display(df_true_v_forecast.head(5))\n",
    "display(df_true_v_forecast.corr() ** 2)\n",
    "forecast_r2 = (df_true_v_forecast.corr() ** 2).iloc[1,0]\n",
    "print(f\"Model ({model_name}) Forecast R^2: {forecast_r2}\")\n"
   ]
  },
  {
   "cell_type": "markdown",
   "metadata": {},
   "source": [
    "#### PMDARIMA Model Param Check"
   ]
  },
  {
   "cell_type": "code",
   "execution_count": null,
   "metadata": {},
   "outputs": [],
   "source": [
    "import pmdarima as pm \n",
    "\n",
    "pm_model = pm.arima.ARIMA(order=my_order, seasonal_order=my_seasonal_order).fit(data_tr_k)\n",
    "\n",
    "pm_model.summary()"
   ]
  },
  {
   "cell_type": "markdown",
   "metadata": {},
   "source": [
    "___Residual Analysis Model 1___"
   ]
  },
  {
   "cell_type": "code",
   "execution_count": null,
   "metadata": {},
   "outputs": [],
   "source": [
    "model.plot_diagnostics(figsize=(14, 10))\n",
    "plt.show()"
   ]
  },
  {
   "cell_type": "markdown",
   "metadata": {},
   "source": [
    "______\n",
    "### Compare Accuracies\n"
   ]
  },
  {
   "cell_type": "code",
   "execution_count": null,
   "metadata": {},
   "outputs": [],
   "source": [
    "pd.DataFrame(accuracy_list)"
   ]
  },
  {
   "cell_type": "markdown",
   "metadata": {},
   "source": [
    "---------------------------\n",
    "## Best Model\n",
    "Pick the best model\n",
    "- Use all training data and compare it to test data"
   ]
  },
  {
   "cell_type": "code",
   "execution_count": null,
   "metadata": {},
   "outputs": [],
   "source": [
    "# Model Parameters\n",
    "my_order = (2, 0, 2)\n",
    "my_seasonal_order  = (3, 1, 0, season)\n",
    "\n",
    "my_order_str = str(my_order).replace(' ', '')\n",
    "my_seasonal_order_str = str(my_seasonal_order[0:3]).replace(' ', '')\n",
    "\n",
    "model_name = f\"SARIMA{my_order_str}x{my_seasonal_order_str}[{my_seasonal_order[3]}]\"\n",
    "\n",
    "print(model_name)"
   ]
  },
  {
   "cell_type": "code",
   "execution_count": null,
   "metadata": {},
   "outputs": [],
   "source": [
    "k_fold_map = {\n",
    "    'k' : [],\n",
    "    'train_idx' : [],\n",
    "    'val_idx' : [],\n",
    "    'train_data' : [],\n",
    "    'val_data' : [], \n",
    "    'ytrue' : [], \n",
    "\n",
    "    'model' : [], \n",
    "    'model_name' : [], \n",
    "\n",
    "    'pred_data' : [],\n",
    "    'ypred' : [],\n",
    "    'ci' : [], \n",
    "    'accuracy' : [], \n",
    "}\n",
    "\n",
    "df_X = pd.DataFrame(X_data)\n",
    "df_y = pd.DataFrame(y_data)\n",
    "#k = 0\n",
    "\n",
    "\n",
    "\n",
    "\n",
    "# train, test data\n",
    "#train_idx = train_idx_list[k]\n",
    "#test_idx = test_idx_list[k]\n",
    "#data_tr_k, data_val_k = df_X.iloc[train_idx, :], df_X.iloc[test_idx, :]\n",
    "y_true = df_y.values\n",
    "\n",
    "# Model Fit\n",
    "model = SARIMAX(df_X, order=my_order, seasonal_order=my_seasonal_order).fit()\n",
    "#k_model_name = f\"{model_name}\"\n",
    "\n",
    "data_pred = model.forecast(len(df_y))\n",
    "fcast = model.get_forecast(len(df_y))\n",
    "ci = fcast.conf_int()\n",
    "y_pred = data_pred.values\n",
    "\n",
    "acc_dict = epa.ts_methods.accuracy.find_prediction_acc(y_pred, y_true, print_result=False)\n",
    "acc_dict['aic'] = round(model.aic, 2)\n",
    "acc_dict['bic'] = round(model.bic, 2)\n",
    "acc_dict['llf'] = round(model.llf, 2)\n",
    "acc_dict['model'] = model_name\n",
    "acc_dict['k'] = 'train'\n",
    "\n",
    "k_fold_map['k'].append('train')\n",
    "k_fold_map['train_idx'].append(None)\n",
    "k_fold_map['val_idx'].append(None)\n",
    "k_fold_map['train_data'].append(X_data)\n",
    "k_fold_map['val_data'].append(y_data)\n",
    "k_fold_map['ytrue'].append(y_true)\n",
    "# Model\n",
    "k_fold_map['model'].append(model)\n",
    "k_fold_map['model_name'].append(k_model_name)\n",
    "# Predction\n",
    "k_fold_map['pred_data'].append(data_pred)\n",
    "k_fold_map['ypred'].append(y_pred)\n",
    "k_fold_map['ci'].append(ci)\n",
    "k_fold_map['accuracy'].append(acc_dict)\n",
    "\n"
   ]
  },
  {
   "cell_type": "code",
   "execution_count": null,
   "metadata": {},
   "outputs": [],
   "source": [
    "accuracy_list.append(acc_dict)\n",
    "pd.DataFrame([acc_dict]).T"
   ]
  },
  {
   "cell_type": "code",
   "execution_count": null,
   "metadata": {},
   "outputs": [],
   "source": [
    "model_outcome_list.append(k_fold_map)\n",
    "k_fold_map['accuracy'][-1]\n",
    "pd.DataFrame([k_fold_map['accuracy'][-1]]).T"
   ]
  },
  {
   "cell_type": "code",
   "execution_count": null,
   "metadata": {},
   "outputs": [],
   "source": [
    "# Plot\n",
    "line_pred_style = '--'\n",
    "\n",
    "plt.figure(figsize=(18, 8))\n",
    "\n",
    "\n",
    "plt.plot(pd.concat([X_data, y_data], axis=0), marker='o', markersize=3, linewidth=2, label= 'true')\n",
    "\n",
    "# Model \n",
    "#model = k_fold_map['model'][k]\n",
    "#model_name = k_fold_map['model_name'][k]\n",
    "\n",
    "plt.plot(model.fittedvalues, marker='o', markersize=2, linewidth=3,  label= f'{model_name} fitted')\n",
    "plt.plot(data_pred, line_pred_style, markersize=3, linewidth=2, label= f'{model_name} pred')\n",
    "\n",
    "\n",
    "plt.fill_between(ci.index, ci.iloc[:, 0], ci.iloc[:, 1], alpha=0.1, label = f'{model_name} pred ci')\n",
    "#plt.title(f'Model Comparison Cross Val k={k}')\n",
    "if use_normalized:\n",
    "    plt.title(f'{param_name} Model: {model_name} Forecast (Normalized)')\n",
    "else:\n",
    "    plt.title(f'{param_name} Model: {model_name} Forecast')\n",
    "plt.xticks(rotation=45, ha='right')\n",
    "plt.xlabel('Time (Weeks)')\n",
    "plt.legend()\n",
    "plt.ylabel(metric_um)\n",
    "\n",
    "    \n",
    "plt.show()"
   ]
  },
  {
   "cell_type": "code",
   "execution_count": null,
   "metadata": {},
   "outputs": [],
   "source": [
    "print(\"Accuracy:\")\n",
    "pd.DataFrame(accuracy_list)"
   ]
  },
  {
   "cell_type": "markdown",
   "metadata": {},
   "source": [
    "__Inverse Normalized Points__\n",
    "    \n",
    "If the data is normalized inverse the normalization to true points"
   ]
  },
  {
   "cell_type": "code",
   "execution_count": null,
   "metadata": {},
   "outputs": [],
   "source": [
    "if use_normalized:\n",
    "    print(\"Inversing Normalization\")\n",
    "    # Fitted Values\n",
    "    model_fit_vals_array = scaler.inverse_transform(pd.DataFrame(model.fittedvalues.copy()))\n",
    "    model_fitted_vals_inv_series = pd.Series(model_fit_vals_array.flatten(), index= model.fittedvalues.index, name=model.fittedvalues.name)\n",
    "\n",
    "    # Predicted Values\n",
    "    data_pred_array = scaler.inverse_transform(pd.DataFrame(data_pred.copy()))\n",
    "    data_pred_inv = pd.Series(data_pred_array.flatten(), index= data_pred.index, name=data_pred.name)\n",
    "\n",
    "    # CI\n",
    "    ci_inv = pd.DataFrame(scaler.inverse_transform(ci.copy()), index=ci.index, columns=ci.columns)\n",
    "\n",
    "    # Assigned Names\n",
    "    fitted_vals = model_fitted_vals_inv_series.copy()\n",
    "    pred_vals = data_pred_inv.copy()\n",
    "    ci_vals = ci_inv.copy()\n",
    "else:\n",
    "    print(\"No Inverse Needed\")\n",
    "    fitted_vals = model.fittedvalues.copy()\n",
    "    pred_vals = data_pred.copy()\n",
    "    ci_vals = ci.copy()\n",
    "    #model_fitted_vals_inv_series = model.fittedvalues\n",
    "    \n",
    "    "
   ]
  },
  {
   "cell_type": "code",
   "execution_count": null,
   "metadata": {},
   "outputs": [],
   "source": [
    "# Plot\n",
    "line_pred_style = '--'\n",
    "\n",
    "plt.figure(figsize=(18, 8))\n",
    "\n",
    "\n",
    "plt.plot(pd.concat([X, y], axis=0), marker='o', markersize=3, linewidth=2, label= 'true')\n",
    "\n",
    "# Model \n",
    "#model = k_fold_map['model'][k]\n",
    "#model_name = k_fold_map['model_name'][k]\n",
    "\n",
    "plt.plot(fitted_vals, marker='o', markersize=2, linewidth=3,  label= f'{model_name} fitted')\n",
    "plt.plot(pred_vals, line_pred_style, markersize=3, linewidth=2, label= f'{model_name} pred')\n",
    "\n",
    "\n",
    "plt.fill_between(ci_vals.index, ci_vals.iloc[:, 0], ci_vals.iloc[:, 1], alpha=0.1, label = f'{model_name} pred ci')\n",
    "#plt.title(f'Model Comparison Cross Val k={k}')\n",
    "plt.title(f'{param_name} Model: {model_name} Forecast')\n",
    "plt.xticks(rotation=45, ha='right')\n",
    "plt.xlabel('Time (Weeks)')\n",
    "plt.legend()\n",
    "plt.ylabel(metric_um)\n",
    "\n",
    "    \n",
    "plt.show()"
   ]
  },
  {
   "cell_type": "code",
   "execution_count": null,
   "metadata": {},
   "outputs": [],
   "source": [
    "# Forecast vs y true\n",
    "\n",
    "plt.figure(figsize=(14, 6))\n",
    "plt.plot(pd.concat([y], axis=0), marker='o', label= 'true')\n",
    "#plt.plot(model.fittedvalues, marker='o', label= 'fitted')\n",
    "plt.plot(data_pred, line_pred_style, marker='o', label= 'pred')\n",
    "plt.fill_between(ci.index, ci.iloc[:, 0], ci.iloc[:, 1], alpha=0.1, label = f'{model_name} pred ci')\n",
    "#plt.fill_between(ci.index, ci['lower cases'], ci['upper cases'], color='blue', alpha=0.1, label = f'pred ci')\n",
    "plt.title(f'{param_name}: {model_name} Prediction')\n",
    "\n",
    "plt.xticks(rotation=45, ha='right')\n",
    "plt.xlabel('Weeks')\n",
    "plt.ylabel(metric_um)\n",
    "plt.legend()\n",
    "plt.tight_layout()\n",
    "plt.show()"
   ]
  },
  {
   "cell_type": "code",
   "execution_count": null,
   "metadata": {},
   "outputs": [],
   "source": [
    "pd.DataFrame([acc_dict]).T"
   ]
  },
  {
   "cell_type": "markdown",
   "metadata": {},
   "source": [
    "__R Squared Values__"
   ]
  },
  {
   "cell_type": "code",
   "execution_count": null,
   "metadata": {},
   "outputs": [],
   "source": [
    "# Correlated\n",
    "#model.fittedvalues.name = 'Fitted'\n",
    "df_true_v_fitted = pd.concat([X_data, model.fittedvalues], axis=1).iloc[season:]\n",
    "display(df_true_v_fitted.head(3))\n",
    "\n",
    "display(df_true_v_fitted.corr() ** 2)\n",
    "fitted_r2 = (df_true_v_fitted.corr() ** 2).iloc[1,0]\n",
    "print(f\"Model ({model_name}) Fitted R^2: {fitted_r2}\")\n",
    "\n",
    "\n",
    "\n",
    "df_true_v_forecast = pd.concat([y_data, pred_vals], axis=1)\n",
    "display(df_true_v_forecast.head(3))\n",
    "display(df_true_v_forecast.corr() ** 2)\n",
    "forecast_r2 = (df_true_v_forecast.corr() ** 2).iloc[1,0]\n",
    "print(f\"Model ({model_name}) Forecast R^2: {forecast_r2}\")\n",
    "\n",
    "\n",
    "print('\\n\\n')\n",
    "print(f\"Model ({model_name}) Fitted R^2:\\t {fitted_r2}\")\n",
    "print(f\"Model ({model_name}) Forecast R^2:\\t {forecast_r2}\")\n"
   ]
  },
  {
   "cell_type": "markdown",
   "metadata": {},
   "source": [
    "__PMDARIMA Model Param Check__"
   ]
  },
  {
   "cell_type": "code",
   "execution_count": null,
   "metadata": {},
   "outputs": [],
   "source": [
    "import pmdarima as pm \n",
    "\n",
    "pm_model = pm.arima.ARIMA(order=my_order, seasonal_order=my_seasonal_order).fit(data_tr_k)\n",
    "\n",
    "pm_model.summary()"
   ]
  },
  {
   "cell_type": "markdown",
   "metadata": {},
   "source": [
    "### Training Data Resiudal Analysis"
   ]
  },
  {
   "cell_type": "code",
   "execution_count": null,
   "metadata": {},
   "outputs": [],
   "source": [
    "print(model_name)\n",
    "display(model.summary())"
   ]
  },
  {
   "cell_type": "code",
   "execution_count": null,
   "metadata": {},
   "outputs": [],
   "source": [
    "print(f'\\n{model_name}')\n",
    "model.plot_diagnostics(figsize=(14, 10))\n",
    "plt.show()"
   ]
  },
  {
   "cell_type": "code",
   "execution_count": null,
   "metadata": {},
   "outputs": [],
   "source": [
    "import statsmodels.api as sm\n",
    "\n",
    "if my_seasonal_order[1] > 0:\n",
    "    model_residuals = model.resid[(season * my_seasonal_order[1]):]\n",
    "else:\n",
    "    model_residuals = model.resid\n",
    "\n",
    "\n",
    "df_model_residuals  = pd.DataFrame(model_residuals)\n",
    "display(df_model_residuals.describe())\n",
    "\n",
    "#df_model_residuals.plot()\n",
    "#df_model_residuals.plot(kind='kde')\n",
    "#plt.title(f'ARIMA{pdqParmas_list[inc]} Residuals')\n",
    "#plt.show()\n",
    "\n",
    "# Plot Resiudals\n",
    "ts_fig_size = (10, 4)\n",
    "acf_pacf_fig_size = (12,4)\n",
    "\n",
    "#Plot Time Series\n",
    "plt.figure(figsize= ts_fig_size, dpi=80)\n",
    "plt.plot( df_model_residuals, marker='o')\n",
    "plt.title(f'{model_name} Residual Time Series')\n",
    "plt.xticks(rotation=45, ha='right')\n",
    "plt.xlabel('Time (Weeks)')\n",
    "plt.ylabel('Residual')\n",
    "plt.show()\n",
    "\n",
    "\n",
    "# acf pacf plts\n",
    "fig, ax = plt.subplots(1,2,figsize= acf_pacf_fig_size)\n",
    "# acf\n",
    "sm.graphics.tsa.plot_acf(df_model_residuals.values.squeeze(), lags=35, ax=ax[0], title=f'{model_name} Resid ACF')\n",
    "# pacf\n",
    "sm.graphics.tsa.plot_pacf(df_model_residuals, lags=35, ax=ax[1], title=f'{model_name} Resid pACF') \n",
    "plt.tight_layout()\n",
    "plt.show()"
   ]
  },
  {
   "cell_type": "code",
   "execution_count": null,
   "metadata": {},
   "outputs": [],
   "source": [
    "import scipy.stats as stats\n",
    "fig = plt.figure(figsize = (8, 8))\n",
    "\n",
    "ax = fig.add_subplot(1,1, 1)\n",
    "res = stats.probplot(model_residuals, plot=plt)\n",
    "\n",
    "\n",
    "#ax.get_lines()[0].set_marker('o')\n",
    "#ax.get_lines()[0].set_markerfacecolor(line_color_list[inc])\n",
    "#ax.get_lines()[0].set_markersize(4)\n",
    "\n",
    "ax.get_lines()[1].set_linewidth(5)\n",
    "plt.title(f'{model_name} QQ-Plot', fontsize=16)\n",
    "plt.tight_layout()\n",
    "plt.show()\n",
    "\n",
    "\n",
    "print(f'\\n\\n{model_name}')\n",
    "epa.ts_methods.shapiro_wilk_test(model.resid)\n"
   ]
  },
  {
   "cell_type": "code",
   "execution_count": null,
   "metadata": {},
   "outputs": [],
   "source": [
    "\n",
    "#Ljung Box Test\n",
    "\n",
    "fig = plt.figure(figsize = (12, 4))\n",
    "print('\\n\\n')\n",
    "print(f'{model_name}')\n",
    "lbt_array = sm.stats.acorr_ljungbox(pd.DataFrame(model_residuals), lags=30)\n",
    "display(lbt_array.tail(1))\n",
    "\n",
    "#plt.plot(lbt_array.lb_pvalue, marker='o', markersize=5, linewidth=0)\n",
    "plt.plot(lbt_array.lb_pvalue, marker='o', markersize=5, linewidth=0, label= f'{model_name}')\n",
    "plt.xlabel('Lag')\n",
    "plt.ylabel('p-value')\n",
    "plt.title(f'Ljung-Box Test')\n",
    "plt.legend()\n",
    "plt.show()\n",
    "     "
   ]
  },
  {
   "cell_type": "code",
   "execution_count": null,
   "metadata": {},
   "outputs": [],
   "source": [
    "import seaborn as sns\n",
    "\n",
    "# Standardize Residuals\n",
    "#fig = plt.figure(figsize = (12, 4))\n",
    "sqr_dev_mean = ((model_residuals - model_residuals.mean())**2).sum()\n",
    "ar_resid_leverage = 1/model_residuals.count()+(model_residuals- model_residuals.mean())**2 / sqr_dev_mean\n",
    "\n",
    "ar_std_residuals = model_residuals/ (model_residuals.std() * (1-ar_resid_leverage)**(1/2))\n",
    "\n",
    "#ax = fig.add_subplot(1,2, inc+1)\n",
    "sns.distplot(ar_std_residuals) # you may select the no. of bins\n",
    "#sns.histplot(ar_std_residuals) # you may select the no. of bins\n",
    "plt.title(f'Standardize Error Terms {model_name}', fontsize=16)           \n",
    "plt.xlabel('Residuals', fontsize = 15) \n",
    "#plt.tight_layout()    \n",
    "plt.show()"
   ]
  },
  {
   "cell_type": "code",
   "execution_count": null,
   "metadata": {},
   "outputs": [],
   "source": []
  }
 ],
 "metadata": {
  "kernelspec": {
   "display_name": "Python 3",
   "language": "python",
   "name": "python3"
  },
  "language_info": {
   "codemirror_mode": {
    "name": "ipython",
    "version": 3
   },
   "file_extension": ".py",
   "mimetype": "text/x-python",
   "name": "python",
   "nbconvert_exporter": "python",
   "pygments_lexer": "ipython3",
   "version": "3.11.2"
  }
 },
 "nbformat": 4,
 "nbformat_minor": 2
}
